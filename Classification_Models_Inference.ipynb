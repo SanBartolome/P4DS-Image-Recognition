{
  "nbformat": 4,
  "nbformat_minor": 0,
  "metadata": {
    "colab": {
      "name": "Classification_Models_Inference.ipynb",
      "provenance": [],
      "collapsed_sections": []
    },
    "kernelspec": {
      "name": "python3",
      "display_name": "Python 3"
    },
    "language_info": {
      "name": "python"
    }
  },
  "cells": [
    {
      "cell_type": "markdown",
      "metadata": {
        "id": "HNWoP4YhEBbh"
      },
      "source": [
        "# Classification Models Inference"
      ]
    },
    {
      "cell_type": "code",
      "metadata": {
        "id": "n6AvGMM90AKw"
      },
      "source": [
        "# LIBRARIES\n",
        "import torch\n",
        "from torchvision import models\n",
        "import numpy as np\n",
        "import scipy as sp\n",
        "import cv2\n",
        "from torchvision import transforms\n",
        "import matplotlib.pyplot as plt\n",
        "import pandas as pd\n",
        "\n",
        "from PIL import Image\n",
        "import requests\n",
        "from io import BytesIO"
      ],
      "execution_count": null,
      "outputs": []
    },
    {
      "cell_type": "code",
      "metadata": {
        "id": "9z06i_d90bwt"
      },
      "source": [
        "# MODELS\n",
        "\n",
        "# Load all models in init.py and keep them loaded\n",
        "#alexnet = models.alexnet(pretrained=True)  # 216 Mb\n",
        "#resnet18 = models.resnet18(pretrained=True) # 45 Mb\n",
        "squeezenet1_1 = models.squeezenet1_1(pretrained=True) # 4.7 Mb\n",
        "#densenet161 = models.densenet161(pretrained=True) # 110 Mb\n",
        "#efficientnet_b0 = models.efficientnet_b0(pretrained=True) # 16 Mb\n",
        "#googlenet = models.googlenet(pretrained=True) # 50 Mb\n",
        "#mobilenet_v2 = models.mobilenet_v2(pretrained=True) # 13.6 Mb\n",
        "#vgg19 = models.vgg19(pretrained=True) # 548 Mb"
      ],
      "execution_count": null,
      "outputs": []
    },
    {
      "cell_type": "code",
      "metadata": {
        "id": "sGr3OVU5Us0Y"
      },
      "source": [
        "# PARAMETERS\n",
        "available_models = [\n",
        "#    'alexnet',\n",
        "#    'resnet18',\n",
        "    'squeezenet1_1',\n",
        "#    'densenet161', \n",
        "#    'efficientnet_b0',\n",
        "#    'googlenet',\n",
        "#    'mobilenet_v2',\n",
        "#    'vgg19'\n",
        "]"
      ],
      "execution_count": null,
      "outputs": []
    },
    {
      "cell_type": "code",
      "metadata": {
        "id": "afzvErxwaT5c"
      },
      "source": [
        "# FUNCTIONS\n",
        "\n",
        "def validate_model_avaliability(net_chosen):\n",
        "    '''Validate Model Availability\n",
        "    It checks if the model chosen is available\n",
        "\n",
        "    Parameters\n",
        "    ----------\n",
        "    net_chosen (str): Name of the chosen model\n",
        "\n",
        "    Returns\n",
        "    -------\n",
        "    None (is an assertion)\n",
        "    '''\n",
        "    assert_message = f\"'{net_chosen}' no está entre los modelos disponibles.\\nModelos disponibles: \\n{available_models}\"\n",
        "    assert net_chosen in available_models,  assert_message\n",
        "\n",
        "def load_model(net_chosen):\n",
        "    '''Load Model\n",
        "    Selects the image classification model with pretrained weights. \n",
        "    It should already be loaded.\n",
        "\n",
        "    Parameters\n",
        "    ----------\n",
        "    net_chosen (str): Name of the chosen model\n",
        "\n",
        "    Returns\n",
        "    -------\n",
        "    net (model): Instance of the classification model\n",
        "    '''\n",
        "    validate_model_avaliability(net_chosen) # Assertion\n",
        "    net = eval(net_chosen)\n",
        "    net.eval()\n",
        "\n",
        "    net_name = str(net.__class__).replace(\"'>\",\"\").split('.')[-1]\n",
        "    print(f'{net_name} ha sido elegido')\n",
        "    return net\n",
        "\n",
        "def get_imagenet_labels():\n",
        "    '''Get ImageNet Labels\n",
        "    Gets a list of the 1000 clases of ImageNet. \n",
        "    '''\n",
        "    # Imagenet Classes\n",
        "    imagenet_classes_url = 'https://gist.githubusercontent.com/yrevar/942d3a0ac09ec9e5eb3a/raw/238f720ff059c1f82f368259d1ca4ffa5dd8f9f5/imagenet1000_clsidx_to_labels.txt'\n",
        "    imagenet_classes = eval(requests.get(imagenet_classes_url).text)\n",
        "\n",
        "    labels = list(imagenet_classes.values())\n",
        "    return labels\n",
        "\n",
        "def load_img(img_path):\n",
        "    '''Load Image\n",
        "    Loads an image from a URL or a Local Path.\n",
        "\n",
        "    Parameters\n",
        "    ----------\n",
        "    img_path (str): URL or Local Path of the image\n",
        "\n",
        "    Returns\n",
        "    -------\n",
        "    img (np.array): Image loaded in numpy array format\n",
        "    '''\n",
        "    try: # Load from internet url\n",
        "        response = requests.get(img_path)\n",
        "        bytes_img = BytesIO(response.content)\n",
        "        print('Image loaded from internet URL')\n",
        "    except: # Load from local path\n",
        "        bytes_img = img_path\n",
        "        print('Image loaded from local path')\n",
        "        \n",
        "    img = Image.open(bytes_img)\n",
        "    img = np.array(img)\n",
        "#    plt.imshow(img)\n",
        "    return img\n",
        "\n",
        "def preprocess_image(img):\n",
        "    '''Preprocess Image\n",
        "    Preprocess the Image into a format accepted by the Models\n",
        "\n",
        "    Parameters\n",
        "    ----------\n",
        "    img (np.array): Image in numpy array\n",
        "\n",
        "    Returns\n",
        "    -------\n",
        "    batch_t (torch.Tensor): Normalized Image in a batch format\n",
        "    '''\n",
        "    transform = transforms.Compose([\n",
        "                                transforms.ToPILImage(),\n",
        "                                transforms.Resize(256),\n",
        "                                transforms.CenterCrop(224),\n",
        "                                transforms.ToTensor(),\n",
        "                                transforms.Normalize(\n",
        "                                    mean = [0.485, 0.456, 0.406],\n",
        "                                    std = [0.229, 0.224, 0.225])])\n",
        "    img_t = transform(img)\n",
        "    batch_t = img_t.unsqueeze(0)\n",
        "    return batch_t\n",
        "\n",
        "def get_top_predictions(net, batch_t, n_top_pred=10):\n",
        "    '''Get Top Predictions\n",
        "    Returns the top likely predictions of the model.\n",
        "\n",
        "    Parameters\n",
        "    ----------\n",
        "    net (model): Instance of the classification model\n",
        "    batch_t (torch.Tensor): Normalized Image in a batch format\n",
        "    \n",
        "    Returns\n",
        "    -------\n",
        "    top_pred_df (pd.DataFrame): Df with the top predictions and their confidence\n",
        "    '''\n",
        "    out = net(batch_t)\n",
        "    percentage = torch.nn.functional.softmax(out, dim=1)[0] * 100\n",
        "    labels = get_imagenet_labels()\n",
        "\n",
        "    _, indices = torch.sort(out, descending=True)\n",
        "    top_pred = [(labels[idx], percentage[idx].item()) for idx in indices[0][:n_top_pred]]\n",
        "    top_pred_df = pd.DataFrame(top_pred, columns=['class','confidence'])\n",
        "\n",
        "    return top_pred_df\n",
        "\n",
        "def inference_pipeline(net_chosen, img_path, n_top_pred=10):\n",
        "    '''Inference Pipeline\n",
        "    Complete Pipeline that selects the model, loads and preprocess the image \n",
        "    and returns the predictions. \n",
        "\n",
        "    Parameters\n",
        "    ----------\n",
        "    net_chosen (str): Name of the chosen model\n",
        "    img_path (str): URL or Local Path of the image\n",
        "    \n",
        "    Returns\n",
        "    -------\n",
        "    top_pred_df (pd.DataFrame): Df with the top predictions and their confidence\n",
        "    '''\n",
        "    net = load_model(net_chosen)\n",
        "    img = load_img(img_path)\n",
        "    batch_t = preprocess_image(img)\n",
        "    top_pred = get_top_predictions(net=net, batch_t=batch_t, n_top_pred=n_top_pred)\n",
        "    return top_pred"
      ],
      "execution_count": null,
      "outputs": []
    },
    {
      "cell_type": "code",
      "metadata": {
        "id": "VnM7i0YxdD-v"
      },
      "source": [
        "url_bee1 ='https://media.wired.com/photos/5bb532b7f8a2e62d0bd5c4e3/1:1/w_1800,h_1800,c_limit/bee-146810332.jpg'\n",
        "url_bear1 = 'https://i.guim.co.uk/img/media/a755adc8dead2440d5ac448a289c6592e176afe8/0_90_5184_3110/master/5184.jpg?width=1200&height=1200&quality=85&auto=format&fit=crop&s=3fb2bcec8ce12ed3214dcc8eccb663bc'\n",
        "url_bear2 = 'https://www.buildabear.com/on/demandware.static/-/Sites-buildabear-master/default/dw2b81d8a7/28502x.jpg'\n",
        "url_crown1 = 'https://5.imimg.com/data5/LF/FV/HP/SELLER-54340532/full-pageant-pink-stone-crown-500x500.jpg'\n",
        "url_zebra1 = 'https://res.cloudinary.com/dk-find-out/image/upload/q_80,w_1920,f_auto/DCTM_Penguin_UK_DK_AL458223_sjvgvt.jpg'\n",
        "url_zebra2 = 'https://www.treehugger.com/thmb/65hcMmCLV2Y9sNc6BS61MGu_ETg=/2121x1193/smart/filters:no_upscale()/GettyImages-1043597638-49acd69677d7442588c1d8930d298a59.jpg'\n",
        "url_paiche1 = 'https://lh3.googleusercontent.com/proxy/ok2pOLF8nJPhY8Tkwxl6kg2XaGjVDtC7w-btPvUzA5j3lG1DD-ytI2yj5hFOu6drYBO1nzyiiC4yNHZMrqwgQL9CTt-Mbgo_EDd57w'\n",
        "url_llama1 = 'https://www.lavanguardia.com/files/content_image_mobile_filter/uploads/2020/12/29/5feafd06dfba4.jpeg'\n",
        "url_bike1 = 'https://i.pinimg.com/originals/fe/0b/5e/fe0b5ef57990ab5418f022afe736ea96.jpg'\n",
        "url_person1 = 'https://thumbs.dreamstime.com/b/happy-person-portrait-smiling-woman-tanned-skin-curly-hair-happy-person-portrait-smiling-young-friendly-woman-197501184.jpg'\n",
        "url_coockies_chihuahua1 = 'https://miro.medium.com/max/615/1*DGDcAQmm0e0kW_1iON1e-Q.jpeg'"
      ],
      "execution_count": null,
      "outputs": []
    },
    {
      "cell_type": "code",
      "metadata": {
        "colab": {
          "base_uri": "https://localhost:8080/"
        },
        "id": "dXQLUtOI_GZZ",
        "outputId": "42769204-81b5-4532-f3c0-a181aa2dedf7"
      },
      "source": [
        "top_preds = inference_pipeline(net_chosen='squeezenet1_1', \n",
        "                   img_path=url_bike1\n",
        "                   )"
      ],
      "execution_count": null,
      "outputs": [
        {
          "output_type": "stream",
          "name": "stdout",
          "text": [
            "SqueezeNet ha sido elegido\n",
            "Image loaded from internet URL\n"
          ]
        }
      ]
    },
    {
      "cell_type": "code",
      "metadata": {
        "colab": {
          "base_uri": "https://localhost:8080/"
        },
        "id": "F2z3NTmE_GWX",
        "outputId": "0c6cbf0b-ed7a-4e89-c73c-0ff0a9306d3e"
      },
      "source": [
        "# Top prediction\n",
        "top_value = top_preds.head(1).set_index('class')['confidence'].to_dict()\n",
        "top_value"
      ],
      "execution_count": null,
      "outputs": [
        {
          "output_type": "execute_result",
          "data": {
            "text/plain": [
              "{'mountain bike, all-terrain bike, off-roader': 99.32002258300781}"
            ]
          },
          "metadata": {},
          "execution_count": 22
        }
      ]
    },
    {
      "cell_type": "code",
      "metadata": {
        "colab": {
          "base_uri": "https://localhost:8080/",
          "height": 513
        },
        "id": "1rRWA9_S_GTL",
        "outputId": "b2d29a40-f384-4388-a1c7-514f4feebdf7"
      },
      "source": [
        "top_preds.set_index(['class'])['confidence'].plot(kind='bar')"
      ],
      "execution_count": null,
      "outputs": [
        {
          "output_type": "execute_result",
          "data": {
            "text/plain": [
              "<matplotlib.axes._subplots.AxesSubplot at 0x7f0e0b1092d0>"
            ]
          },
          "metadata": {},
          "execution_count": 28
        },
        {
          "output_type": "display_data",
          "data": {
            "image/png": "[encoded data removed]",
            "text/plain": [
              "<Figure size 432x288 with 1 Axes>"
            ]
          },
          "metadata": {
            "needs_background": "light"
          }
        }
      ]
    },
    {
      "cell_type": "code",
      "metadata": {
        "id": "WwpvbWvX_GQP"
      },
      "source": [
        ""
      ],
      "execution_count": null,
      "outputs": []
    }
  ]
}